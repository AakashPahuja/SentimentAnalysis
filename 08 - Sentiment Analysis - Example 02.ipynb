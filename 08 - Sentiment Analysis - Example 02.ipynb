{
 "cells": [
  {
   "cell_type": "markdown",
   "metadata": {},
   "source": [
    "# Sentiment Analysis using TextBlob\n",
    "\n",
    "In this notebook we will use the \"packaged\" library TextBlob. As in any other library the analytical process is a black-box and you will not have the option of modifying it."
   ]
  },
  {
   "cell_type": "code",
   "execution_count": 2,
   "metadata": {
    "collapsed": false
   },
   "outputs": [],
   "source": [
    "from textblob import TextBlob"
   ]
  },
  {
   "cell_type": "code",
   "execution_count": 3,
   "metadata": {
    "collapsed": true
   },
   "outputs": [],
   "source": [
    "#Read the datasets\n",
    "path = './data/'\n",
    "filePrefix = 'training_'\n",
    "categories=['POS','NEG']\n",
    "dataset = {}\n",
    "\n",
    "N={} # Number of posts in each corpus\n",
    "\n",
    "def processLine(line):\n",
    "    return line.lower().strip(\"/\")\n",
    "\n",
    "for category in categories:\n",
    "    fileName=path+filePrefix+category.lower()\n",
    "    f=open(fileName,'r')\n",
    "    lines=f.readlines()\n",
    "    lArticles =[]\n",
    "    \n",
    "    for line in lines:\n",
    "        lArticles.append(processLine(line))\n",
    "    f.close\n",
    "    dataset[category] = lArticles\n",
    "    "
   ]
  },
  {
   "cell_type": "code",
   "execution_count": 4,
   "metadata": {
    "collapsed": false
   },
   "outputs": [
    {
     "data": {
      "text/plain": [
       "'films adapted from comic books have had plenty of success , whether they\\'re about superheroes ( batman , superman , spawn ) , or geared toward kids ( casper ) or the arthouse crowd ( ghost world ) , but there\\'s never really been a comic book like from hell before .  for starters , it was created by alan moore ( and eddie campbell ) , who brought the medium to a whole new level in the mid \\'80s with a 12-part series called the watchmen .  to say moore and campbell thoroughly researched the subject of jack the ripper would be like saying michael jackson is starting to look a little odd .  the book ( or \" graphic novel , \" if you will ) is over 500 pages long and includes nearly 30 more that consist of nothing but footnotes .  in other words , don\\'t dismiss this film because of its source .  if you can get past the whole comic book thing , you might find another stumbling block in from hell\\'s directors , albert and allen hughes .  getting the hughes brothers to direct this seems almost as ludicrous as casting carrot top in , well , anything , but riddle me this : who better to direct a film that\\'s set in the ghetto and features really violent street crime than the mad geniuses behind menace ii society ?  the ghetto in question is , of course , whitechapel in 1888 london\\'s east end .  it\\'s a filthy , sooty place where the whores ( called \" unfortunates \" ) are starting to get a little nervous about this mysterious psychopath who has been carving through their profession with surgical precision .  when the first stiff turns up , copper peter godley ( robbie coltrane , the world is not enough ) calls in inspector frederick abberline ( johnny depp , blow ) to crack the case .  abberline , a widower , has prophetic dreams he unsuccessfully tries to quell with copious amounts of absinthe and opium .  upon arriving in whitechapel , he befriends an unfortunate named mary kelly ( heather graham , say it isn\\'t so ) and proceeds to investigate the horribly gruesome crimes that even the police surgeon can\\'t stomach .  i don\\'t think anyone needs to be briefed on jack the ripper , so i won\\'t go into the particulars here , other than to say moore and campbell have a unique and interesting theory about both the identity of the killer and the reasons he chooses to slay .  in the comic , they don\\'t bother cloaking the identity of the ripper , but screenwriters terry hayes ( vertical limit ) and rafael yglesias ( les mis ? rables ) do a good job of keeping him hidden from viewers until the very end .  it\\'s funny to watch the locals blindly point the finger of blame at jews and indians because , after all , an englishman could never be capable of committing such ghastly acts .  and from hell\\'s ending had me whistling the stonecutters song from the simpsons for days ( \" who holds back the electric car/who made steve guttenberg a star ? \" ) .  don\\'t worry - it\\'ll all make sense when you see it .  now onto from hell\\'s appearance : it\\'s certainly dark and bleak enough , and it\\'s surprising to see how much more it looks like a tim burton film than planet of the apes did ( at times , it seems like sleepy hollow 2 ) .  the print i saw wasn\\'t completely finished ( both color and music had not been finalized , so no comments about marilyn manson ) , but cinematographer peter deming ( don\\'t say a word ) ably captures the dreariness of victorian-era london and helped make the flashy killing scenes remind me of the crazy flashbacks in twin peaks , even though the violence in the film pales in comparison to that in the black-and-white comic .  oscar winner martin childs\\' ( shakespeare in love ) production design turns the original prague surroundings into one creepy place .  even the acting in from hell is solid , with the dreamy depp turning in a typically strong performance and deftly handling a british accent .  ians holm ( joe gould\\'s secret ) and richardson ( 102 dalmatians ) log in great supporting roles , but the big surprise here is graham .  i cringed the first time she opened her mouth , imagining her attempt at an irish accent , but it actually wasn\\'t half bad .  the film , however , is all good .  2 : 00 - r for strong violence/gore , sexuality , language and drug content \\n'"
      ]
     },
     "execution_count": 4,
     "metadata": {},
     "output_type": "execute_result"
    }
   ],
   "source": [
    "dataset['POS'][0]"
   ]
  },
  {
   "cell_type": "code",
   "execution_count": 6,
   "metadata": {
    "collapsed": false
   },
   "outputs": [
    {
     "name": "stdout",
     "output_type": "stream",
     "text": [
      "[\"'s surprise\", 'critical darling', 'mtv films', 'high school comedy', 'matthew broderick', 'reese witherspoon', 'current example', 'george washington carver high school', 'student elections', 'tracy flick', 'reese witherspoon', 'matthew broderick', 'megalomaniac student', 'encourages paul', 'popular-but-slow jock', \"paul 's nihilistic sister jumps\", 'personal reasons', 'dark side', 'such sleeper success', 'quality stuff', \"ca n't\", 'negative baggage', 'good film', 'significant plot details', 'tracy flick', 'extraordinary number', 'school play', 'max fischer', 'extraordinary number', 'school play', 'significant tension', 'potential relationship', 'significant tension', 'potential relationship', 'tracy flick', 'parent home', 'max fischer', 'parent home', 'matthew broderick', 'extramarital affair', 'whole life', 'bill murray', 'extramarital affair', 'whole life', 'bee stings', 'individual screenplay', 'significant plot points', 'different studios', 'high school geeks revenge movie', 'fantastic performances', 'newcomer jessica campbell', \"paul 's anti-social sister\", 'rooney role', '_ferris bueller_', 'oscar nomination', \"campbell 's character\", 'fantastic speech', \"i 've\", 'extraordinary amount', 'i suppose', 'mtv films', 'tensions mount', 'alexander payne', \"tracy 's determination\", 'student/teacher relationship', 'logical reason', 'plot similarities', 'tonal nosedive']\n",
      "Sentiment(polarity=0.103847233495671, subjectivity=0.5179203869047619)\n"
     ]
    }
   ],
   "source": [
    "positive = dataset['POS'][1]\n",
    "tblog = TextBlob(positive)\n",
    "print (tblog.noun_phrases)\n",
    "print (tblog.sentiment)"
   ]
  },
  {
   "cell_type": "code",
   "execution_count": 8,
   "metadata": {
    "collapsed": false
   },
   "outputs": [
    {
     "name": "stdout",
     "output_type": "stream",
     "text": [
      "['janeane garofalo', 'romantic comedy', 'good idea', 'couple years', 'by-the-books movie', 'political satire bandwagon', 'fall flat', 'campaign aide', 'massacusetts senator', 'jay o', 'denis leary', 'stereotypical strategist', 'irish roots', 'boston roman catholic democrat contingent', 'kennedy family', 'leary orders garofalo', 'tiny plane', \"ca n't\", 'hotel room', 'dog piss', 'roger ebert calls', 'cinematic way', 'hotel bathroom', 'nude sean', \"david o'hara\", \"garofalo hates o'hara\", 'instant i', 'superficial detail', \"'d reconcile\", 'happy irish tune', 'end credits', \"movie 's twist\", 'small ireland town', 'county pair', \"milo o'shea\", 'irish tom snyder', \"matchmaker 's\", 'utter predictability', 'respectable person', 'comedic distinction', 'weak script', 'leary stays stateside', \"old microphone 's\", 'speech cliche']\n",
      "Sentiment(polarity=0.09467532467532466, subjectivity=0.5048809523809523)\n",
      "0.09467532467532466\n",
      "0.5048809523809523\n"
     ]
    }
   ],
   "source": [
    "negative = dataset['NEG'][11]\n",
    "tblog = TextBlob(negative)\n",
    "print (tblog.noun_phrases)\n",
    "print (tblog.sentiment)\n",
    "print (tblog.sentiment.polarity)\n",
    "print (tblog.sentiment.subjectivity)"
   ]
  },
  {
   "cell_type": "code",
   "execution_count": 10,
   "metadata": {
    "collapsed": false
   },
   "outputs": [
    {
     "name": "stdout",
     "output_type": "stream",
     "text": [
      "[]\n",
      "Sentiment(polarity=0.2, subjectivity=0.2)\n"
     ]
    }
   ],
   "source": [
    "#tblog = TextBlob(\"I really don't like it\")\n",
    "tblog = TextBlob(\"I really like it\")\n",
    "print (tblog.noun_phrases)\n",
    "print (tblog.sentiment)"
   ]
  },
  {
   "cell_type": "markdown",
   "metadata": {},
   "source": [
    "## TextBlob with Tweeters"
   ]
  },
  {
   "cell_type": "code",
   "execution_count": 11,
   "metadata": {
    "collapsed": false
   },
   "outputs": [
    {
     "name": "stdout",
     "output_type": "stream",
     "text": [
      "3000\n"
     ]
    }
   ],
   "source": [
    "import re\n",
    "import nltk\n",
    "import random\n",
    "from nltk.tokenize import TweetTokenizer\n",
    "from nltk.corpus import wordnet\n",
    "\n",
    "def remove_utf(text):\n",
    "    return re.sub(r'[^\\x00-\\x7f]',r' ',text)\n",
    "\n",
    "def remove_tinyURL(text):\n",
    "    return re.sub(r'http\\S+',r'',text)\n",
    "\n",
    "path = \".\\\\data\\\\Tweet-3000.txt\"\n",
    "\n",
    "tweets = []\n",
    "file_input = open (path,\"r\")\n",
    "lines = file_input.readlines()\n",
    "for line in lines:\n",
    "    tweets.append(remove_tinyURL(remove_utf(line.lower())))\n",
    "    \n",
    "file_input.close()\n",
    "\n",
    "print (len(tweets))"
   ]
  },
  {
   "cell_type": "code",
   "execution_count": 12,
   "metadata": {
    "collapsed": false
   },
   "outputs": [
    {
     "name": "stdout",
     "output_type": "stream",
     "text": [
      "\"@switchfoot  - awww, that's a bummer. you shoulda got david carr of third day to do it. ;d\"\n",
      "\n",
      "0.2\n",
      "0.45\n"
     ]
    }
   ],
   "source": [
    "print(tweets[0])\n",
    "tblog = TextBlob(tweets[0])\n",
    "print (tblog.sentiment.polarity)\n",
    "print (tblog.sentiment.subjectivity)"
   ]
  },
  {
   "cell_type": "code",
   "execution_count": 13,
   "metadata": {
    "collapsed": false
   },
   "outputs": [
    {
     "name": "stdout",
     "output_type": "stream",
     "text": [
      "0.2 - 0.45 - \"@switchfoot  - awww, that's a bummer. you shoulda got david carr of third day to do it. ;d\"\n",
      "\n",
      "0.0 - 0.0 - is upset that he can't update his facebook by texting it... and might cry as a result school today also. blah!\n",
      "\n",
      "0.5 - 0.5 - @kenichan i dived many times for the ball. managed to save 50% the rest go out of bounds\n",
      "\n",
      "0.2 - 0.4 - my whole body feels itchy and like its on fire \n",
      "\n",
      "-0.625 - 1.0 - \"@nationwideclass no, it's not behaving at all. i'm mad. why am i here? because i can't see you all over there. \"\n",
      "\n",
      "0.2 - 0.4 - @kwesidei not the whole crew \n",
      "\n",
      "0.0 - 0.0 - need a hug \n",
      "\n",
      "0.27083333333333337 - 0.5599999999999999 - \"@loltrish hey long time no see! yes.. rains a bit ,only a bit lol , i'm fine thanks , how's you ?\"\n",
      "\n",
      "0.0 - 0.0 - @tatiana_k nope they didn't have it \n",
      "\n",
      "0.0 - 0.0 - @twittera que me muera ? \n",
      "\n"
     ]
    }
   ],
   "source": [
    "for i in range(0,10):\n",
    "    tblog = TextBlob(tweets[i])\n",
    "    polarity = tblog.sentiment.polarity\n",
    "    sub = tblog.sentiment.subjectivity\n",
    "    print (\"%s - %s - %s\" % (polarity,sub,tweets[i]))"
   ]
  },
  {
   "cell_type": "code",
   "execution_count": null,
   "metadata": {
    "collapsed": true
   },
   "outputs": [],
   "source": []
  }
 ],
 "metadata": {
  "kernelspec": {
   "display_name": "Python [default]",
   "language": "python",
   "name": "python3"
  },
  "language_info": {
   "codemirror_mode": {
    "name": "ipython",
    "version": 3
   },
   "file_extension": ".py",
   "mimetype": "text/x-python",
   "name": "python",
   "nbconvert_exporter": "python",
   "pygments_lexer": "ipython3",
   "version": "3.5.2"
  }
 },
 "nbformat": 4,
 "nbformat_minor": 2
}
